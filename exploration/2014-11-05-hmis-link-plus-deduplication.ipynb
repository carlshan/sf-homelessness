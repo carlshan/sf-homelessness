{
 "metadata": {
  "name": "",
  "signature": "sha256:8cbe1e75ece8f40b062dcae26d34489e7c2567ab7e49d52700f4b00f511f381b"
 },
 "nbformat": 3,
 "nbformat_minor": 0,
 "worksheets": [
  {
   "cells": [
    {
     "cell_type": "code",
     "collapsed": false,
     "input": [
      "import pandas as pd\n",
      "import clean"
     ],
     "language": "python",
     "metadata": {},
     "outputs": [],
     "prompt_number": 1
    },
    {
     "cell_type": "code",
     "collapsed": false,
     "input": [
      "program = clean.get_program()"
     ],
     "language": "python",
     "metadata": {},
     "outputs": [],
     "prompt_number": 5
    },
    {
     "cell_type": "code",
     "collapsed": false,
     "input": [
      "strict_program = clean.program_strict_deduplicate_individuals(program)\n",
      "strict_program = clean.program_generate_families(strict_program)\n",
      "strict_program = clean.program_generate_family_characteristics(strict_program)"
     ],
     "language": "python",
     "metadata": {},
     "outputs": [],
     "prompt_number": 6
    },
    {
     "cell_type": "code",
     "collapsed": false,
     "input": [
      "fuzzy_program = clean.program_fuzzy_deduplicate_individuals(program)\n",
      "fuzzy_program = clean.program_generate_families(fuzzy_program)\n",
      "fuzzy_program = clean.program_generate_family_characteristics(fuzzy_program)"
     ],
     "language": "python",
     "metadata": {},
     "outputs": [],
     "prompt_number": 7
    },
    {
     "cell_type": "markdown",
     "metadata": {},
     "source": [
      "There are a lot fewer groups of people now:"
     ]
    },
    {
     "cell_type": "code",
     "collapsed": false,
     "input": [
      "len(strict_program['Family Identifier'].unique())"
     ],
     "language": "python",
     "metadata": {},
     "outputs": [
      {
       "metadata": {},
       "output_type": "pyout",
       "prompt_number": 8,
       "text": [
        "13337"
       ]
      }
     ],
     "prompt_number": 8
    },
    {
     "cell_type": "code",
     "collapsed": false,
     "input": [
      "len(fuzzy_program['Family Identifier'].unique())"
     ],
     "language": "python",
     "metadata": {},
     "outputs": [
      {
       "metadata": {},
       "output_type": "pyout",
       "prompt_number": 9,
       "text": [
        "4946"
       ]
      }
     ],
     "prompt_number": 9
    },
    {
     "cell_type": "markdown",
     "metadata": {},
     "source": [
      "But, most of that drop came from individuals who are now the same person:"
     ]
    },
    {
     "cell_type": "code",
     "collapsed": false,
     "input": [
      "strict_program[['Family Identifier','Subject Unique Identifier']].drop_duplicates().groupby('Family Identifier').apply(len).value_counts()"
     ],
     "language": "python",
     "metadata": {},
     "outputs": [
      {
       "metadata": {},
       "output_type": "pyout",
       "prompt_number": 35,
       "text": [
        "1     9506\n",
        "2     1917\n",
        "3      961\n",
        "4      484\n",
        "5      237\n",
        "6      104\n",
        "7       48\n",
        "8       27\n",
        "9       17\n",
        "10      12\n",
        "11       8\n",
        "13       4\n",
        "14       4\n",
        "12       3\n",
        "18       1\n",
        "17       1\n",
        "16       1\n",
        "15       1\n",
        "dtype: int64"
       ]
      }
     ],
     "prompt_number": 35
    },
    {
     "cell_type": "code",
     "collapsed": false,
     "input": [
      "fuzzy_program[['Family Identifier','Subject Unique Identifier']].drop_duplicates().groupby('Family Identifier').apply(len).value_counts()"
     ],
     "language": "python",
     "metadata": {},
     "outputs": [
      {
       "metadata": {},
       "output_type": "pyout",
       "prompt_number": 36,
       "text": [
        "1     3617\n",
        "2      664\n",
        "3      348\n",
        "4      177\n",
        "5       84\n",
        "6       27\n",
        "7       16\n",
        "9        5\n",
        "8        4\n",
        "15       1\n",
        "11       1\n",
        "10       1\n",
        "dtype: int64"
       ]
      }
     ],
     "prompt_number": 36
    },
    {
     "cell_type": "markdown",
     "metadata": {},
     "source": [
      "What about just looking at families?"
     ]
    },
    {
     "cell_type": "code",
     "collapsed": false,
     "input": [
      "fuzzy_program[fuzzy_program['Family?']][['Family Identifier','Subject Unique Identifier']].drop_duplicates().groupby('Family Identifier').apply(len).value_counts()"
     ],
     "language": "python",
     "metadata": {},
     "outputs": [
      {
       "metadata": {},
       "output_type": "pyout",
       "prompt_number": 20,
       "text": [
        "2     382\n",
        "3     332\n",
        "4     171\n",
        "5      84\n",
        "6      27\n",
        "7      16\n",
        "1      12\n",
        "9       5\n",
        "8       4\n",
        "15      1\n",
        "11      1\n",
        "10      1\n",
        "dtype: int64"
       ]
      }
     ],
     "prompt_number": 20
    },
    {
     "cell_type": "code",
     "collapsed": false,
     "input": [
      "strict_program[strict_program['Family?']][['Family Identifier','Subject Unique Identifier']].drop_duplicates().groupby('Family Identifier').apply(len).value_counts()"
     ],
     "language": "python",
     "metadata": {},
     "outputs": [
      {
       "metadata": {},
       "output_type": "pyout",
       "prompt_number": 21,
       "text": [
        "2     949\n",
        "3     826\n",
        "4     464\n",
        "5     231\n",
        "6     103\n",
        "7      48\n",
        "8      27\n",
        "9      17\n",
        "10     12\n",
        "11      8\n",
        "13      4\n",
        "14      4\n",
        "12      3\n",
        "17      1\n",
        "16      1\n",
        "15      1\n",
        "18      1\n",
        "dtype: int64"
       ]
      }
     ],
     "prompt_number": 21
    },
    {
     "cell_type": "markdown",
     "metadata": {},
     "source": [
      "Numbers, straight up"
     ]
    },
    {
     "cell_type": "code",
     "collapsed": false,
     "input": [
      "len(strict_program[strict_program['Family?'] & strict_program['Program End Date'].isnull()]['Family Identifier'].unique())"
     ],
     "language": "python",
     "metadata": {},
     "outputs": [
      {
       "metadata": {},
       "output_type": "pyout",
       "prompt_number": 24,
       "text": [
        "1191"
       ]
      }
     ],
     "prompt_number": 24
    },
    {
     "cell_type": "code",
     "collapsed": false,
     "input": [
      "len(fuzzy_program[fuzzy_program['Family?'] & fuzzy_program['Program End Date'].isnull()]['Family Identifier'].unique())"
     ],
     "language": "python",
     "metadata": {},
     "outputs": [
      {
       "metadata": {},
       "output_type": "pyout",
       "prompt_number": 25,
       "text": [
        "753"
       ]
      }
     ],
     "prompt_number": 25
    },
    {
     "cell_type": "markdown",
     "metadata": {},
     "source": [
      "# Fuzzy deduplication"
     ]
    },
    {
     "cell_type": "code",
     "collapsed": false,
     "input": [
      "hmis_lp_duplicates = pd.read_csv('../data/HMIS duplicates using link plus.csv')"
     ],
     "language": "python",
     "metadata": {},
     "outputs": [],
     "prompt_number": 52
    },
    {
     "cell_type": "code",
     "collapsed": false,
     "input": [
      "hmis_lp_duplicates = hmis_lp_duplicates.drop_duplicates('Subject Unique Identifier')\n",
      "hmis_lp_duplicates['Deduplicated Subject Unique Identifier'] = hmis_lp_duplicates.groupby('Set ID')['Subject Unique Identifier'].transform(min)\n",
      "program = program.merge(hmis_lp_duplicates[['Subject Unique Identifier','Deduplicated Subject Unique Identifier']], on='Subject Unique Identifier')"
     ],
     "language": "python",
     "metadata": {},
     "outputs": [],
     "prompt_number": 53
    },
    {
     "cell_type": "code",
     "collapsed": false,
     "input": [
      "program['Raw Subject Unique Identifier'] = program['Subject Unique Identifier']\n",
      "program['Subject Unique Identifier'] = program['Deduplicated Subject Unique Identifier'].fillna(program['Subject Unique Identifier'])"
     ],
     "language": "python",
     "metadata": {},
     "outputs": [],
     "prompt_number": 54
    },
    {
     "cell_type": "markdown",
     "metadata": {},
     "source": [
      "Some people are too losely coupled ... probably parents and kids with the same names?"
     ]
    },
    {
     "cell_type": "code",
     "collapsed": false,
     "input": [
      "hmis_lp_duplicates['Deduplicated Subject Unique Identifier'].value_counts()"
     ],
     "language": "python",
     "metadata": {},
     "outputs": [
      {
       "metadata": {},
       "output_type": "pyout",
       "prompt_number": 56,
       "text": [
        "7969     12\n",
        "16058    12\n",
        "16418    11\n",
        "16137    11\n",
        "30135    10\n",
        "42314    10\n",
        "30073     9\n",
        "2866      9\n",
        "21597     9\n",
        "27816     9\n",
        "938       9\n",
        "31820     9\n",
        "29940     9\n",
        "12684     8\n",
        "18688     8\n",
        "...\n",
        "30071    2\n",
        "13647    2\n",
        "23890    2\n",
        "34137    2\n",
        "13663    2\n",
        "23906    2\n",
        "32102    2\n",
        "30055    2\n",
        "36200    2\n",
        "32920    2\n",
        "48494    2\n",
        "13679    2\n",
        "34241    2\n",
        "54643    2\n",
        "2049     2\n",
        "Length: 10093, dtype: int64"
       ]
      }
     ],
     "prompt_number": 56
    },
    {
     "cell_type": "code",
     "collapsed": false,
     "input": [
      "program[program['Subject Unique Identifier'] == 7969]['DOB'].unique()"
     ],
     "language": "python",
     "metadata": {},
     "outputs": [
      {
       "metadata": {},
       "output_type": "pyout",
       "prompt_number": 67,
       "text": [
        "array(['1979-05-17T17:00:00.000000000-0700',\n",
        "       '1983-08-15T17:00:00.000000000-0700',\n",
        "       '2010-03-12T16:00:00.000000000-0800',\n",
        "       '1958-06-21T00:00:00.000000000Z', '1945-03-20T00:00:00.000000000Z',\n",
        "       '1969-09-20T00:00:00.000000000Z', '1935-11-08T00:00:00.000000000Z',\n",
        "       '1969-01-31T00:00:00.000000000Z'], dtype='datetime64[ns]')"
       ]
      }
     ],
     "prompt_number": 67
    },
    {
     "cell_type": "code",
     "collapsed": false,
     "input": [
      "program[program['Subject Unique Identifier'] == 2866]['DOB'].unique()"
     ],
     "language": "python",
     "metadata": {},
     "outputs": [
      {
       "metadata": {},
       "output_type": "pyout",
       "prompt_number": 66,
       "text": [
        "array(['1956-09-25T00:00:00.000000000Z',\n",
        "       '1994-09-12T17:00:00.000000000-0700'], dtype='datetime64[ns]')"
       ]
      }
     ],
     "prompt_number": 66
    }
   ],
   "metadata": {}
  }
 ]
}