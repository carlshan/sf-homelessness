{
 "metadata": {
  "name": "",
  "signature": "sha256:06f46efe624e62bae98564e8e1f004c4a3f5453075f81a1b0079270689d3d807"
 },
 "nbformat": 3,
 "nbformat_minor": 0,
 "worksheets": [
  {
   "cells": [
    {
     "cell_type": "code",
     "collapsed": false,
     "input": [
      "import pandas as pd\n",
      "import clean\n",
      "import networkx as nx\n",
      "import sys"
     ],
     "language": "python",
     "metadata": {},
     "outputs": [],
     "prompt_number": 1
    },
    {
     "cell_type": "markdown",
     "metadata": {},
     "source": [
      "# prep for generating graphs"
     ]
    },
    {
     "cell_type": "code",
     "collapsed": false,
     "input": [
      "program.rename(columns={'Subject Unique Identifier': 'Raw Subject Unique Identifier'}, inplace=True)\n",
      "client.rename(columns={'Clientid': 'Raw Clientid'}, inplace=True)"
     ],
     "language": "python",
     "metadata": {},
     "outputs": [],
     "prompt_number": 3
    },
    {
     "cell_type": "markdown",
     "metadata": {},
     "source": [
      "# generate new ids"
     ]
    },
    {
     "cell_type": "code",
     "collapsed": false,
     "input": [
      "G = nx.Graph()\n",
      "G.add_nodes_from([('h', v) for v in program['Raw Subject Unique Identifier'].values])\n",
      "G.add_nodes_from([('c', v) for v in client['Raw Clientid'].values])"
     ],
     "language": "python",
     "metadata": {},
     "outputs": [],
     "prompt_number": 4
    },
    {
     "cell_type": "code",
     "collapsed": false,
     "input": [
      "# sanity check\n",
      "len(G.nodes()) == len(client['Raw Clientid'].unique()) + len(program['Raw Subject Unique Identifier'].unique())"
     ],
     "language": "python",
     "metadata": {},
     "outputs": [
      {
       "metadata": {},
       "output_type": "pyout",
       "prompt_number": 5,
       "text": [
        "True"
       ]
      }
     ],
     "prompt_number": 5
    },
    {
     "cell_type": "code",
     "collapsed": false,
     "input": [
      "def group_edges(node_prefix, df, group_id, individual_id):\n",
      "    \"\"\"\n",
      "    group_edges returns the edge list from a grouping dataframe, either a Link Plus fuzzy matching,\n",
      "    or a dataframe where people are connected by appearing in the same family or case.\n",
      "\n",
      "    :param node_prefix: prefix for the nodes in the edge list.\n",
      "    :type edge_fields: str.\n",
      "\n",
      "    :param df: dataframe.\n",
      "    :type df: Pandas.Dataframe.\n",
      "\n",
      "    :param individual_id: individual id column name in grouping csv.\n",
      "    :type individual_id: str.\n",
      "\n",
      "    :param group_id: group id column name in grouping csv.\n",
      "    :type individual_id: str.\n",
      "    \"\"\"\n",
      "    groups = df[[group_id,individual_id]].dropna().drop_duplicates().set_index(group_id)\n",
      "    edges = groups.merge(groups, left_index=True, right_index=True)\n",
      "    return [tuple(map(lambda v: (node_prefix, v), e)) for e in edges.values]"
     ],
     "language": "python",
     "metadata": {},
     "outputs": [],
     "prompt_number": 6
    },
    {
     "cell_type": "code",
     "collapsed": false,
     "input": [
      "def matching_edges():\n",
      "    \"\"\"\n",
      "    matching_edges returns the edge list from a Connecting Point to HMIS matching csv.\n",
      "    \"\"\"\n",
      "    matching = pd.read_csv('../data/matching/cp_hmis_match_results.csv').dropna()\n",
      "    return [(('c',v[0]),('h',v[1])) for v in matching[['clientid','Subject Unique Identifier']].values]"
     ],
     "language": "python",
     "metadata": {},
     "outputs": [],
     "prompt_number": 7
    },
    {
     "cell_type": "code",
     "collapsed": false,
     "input": [
      "G.add_edges_from(group_edges('h', pd.read_csv('../data/hmis/hmis_client_duplicates_link_plus.csv'), 'Set ID', 'Subject Unique Identifier'))\n",
      "G.add_edges_from(group_edges('c', pd.read_csv('../data/connecting_point/cp_client_duplicates_link_plus.csv'), 'Set ID', 'Clientid'))"
     ],
     "language": "python",
     "metadata": {},
     "outputs": [],
     "prompt_number": 8
    },
    {
     "cell_type": "code",
     "collapsed": false,
     "input": [
      "G.add_edges_from(matching_edges())"
     ],
     "language": "python",
     "metadata": {},
     "outputs": [],
     "prompt_number": 9
    },
    {
     "cell_type": "code",
     "collapsed": false,
     "input": [
      "G_individuals = G.copy()\n",
      "G_families = G.copy()"
     ],
     "language": "python",
     "metadata": {},
     "outputs": [],
     "prompt_number": 10
    },
    {
     "cell_type": "code",
     "collapsed": false,
     "input": [
      "G_families.add_edges_from(group_edges('h', program, 'Family Site Identifier', 'Raw Subject Unique Identifier'))\n",
      "G_families.add_edges_from(group_edges('c', client, 'Caseid', 'Raw Clientid'))"
     ],
     "language": "python",
     "metadata": {},
     "outputs": [],
     "prompt_number": 11
    },
    {
     "cell_type": "code",
     "collapsed": false,
     "input": [
      "def get_ids_from_nodes(node_prefix, nodes):\n",
      "    \"\"\"\n",
      "    get_ids_from_subgraph takes a list of nodes from G and returns a list of the\n",
      "    ids contained in only the nodes with the given prefix.\n",
      "    \n",
      "    param node_prefix: prefix for the nodes to keep.\n",
      "    type node_prefix: str.\n",
      "    \n",
      "    param nodes: list of nodes from G.\n",
      "    type nodes: [(str, int)].\n",
      "    \"\"\"\n",
      "    return map(lambda pair: pair[1], filter(lambda pair: pair[0] == node_prefix, nodes))"
     ],
     "language": "python",
     "metadata": {},
     "outputs": [],
     "prompt_number": 12
    },
    {
     "cell_type": "code",
     "collapsed": false,
     "input": [
      "individuals = [c for c in nx.connected_components(G_individuals)]\n",
      "hmis_individuals = [get_ids_from_nodes('h', c) for c in individuals]\n",
      "cp_individuals = [get_ids_from_nodes('c', c) for c in individuals]"
     ],
     "language": "python",
     "metadata": {},
     "outputs": [],
     "prompt_number": 13
    },
    {
     "cell_type": "code",
     "collapsed": false,
     "input": [
      "families = [c for c in nx.connected_components(G_families)]\n",
      "hmis_families = [get_ids_from_nodes('h', c) for c in families]\n",
      "cp_families = [get_ids_from_nodes('c', c) for c in families]"
     ],
     "language": "python",
     "metadata": {},
     "outputs": [],
     "prompt_number": 14
    },
    {
     "cell_type": "code",
     "collapsed": false,
     "input": [
      "def create_dataframe_from_grouped_ids(grouped_ids, col):\n",
      "    \"\"\"\n",
      "    create_dataframe_from_grouped_ids takes a list of ids, grouped by individual or family, and creates\n",
      "    a dataframe where each id in a group has the same id in col.\n",
      "    \n",
      "    param grouped_ids: a list of lists of ids.\n",
      "    type grouped_ids: [[int]].\n",
      "    \n",
      "    param col: the name to give the single column in the dataframe.\n",
      "    type col: str.\n",
      "    \"\"\"\n",
      "    return pd.DataFrame({col: pd.Series({id: idx for idx, ids in enumerate(grouped_ids) for id in ids})})"
     ],
     "language": "python",
     "metadata": {},
     "outputs": [],
     "prompt_number": 15
    },
    {
     "cell_type": "code",
     "collapsed": false,
     "input": [
      "hmis_individuals = create_dataframe_from_grouped_ids(hmis_individuals, 'Subject Unique Identifier')\n",
      "hmis_families = create_dataframe_from_grouped_ids(hmis_families, 'Family Identifier')\n",
      "cp_individuals = create_dataframe_from_grouped_ids(cp_individuals, 'Clientid')\n",
      "cp_families = create_dataframe_from_grouped_ids(cp_families, 'Familyid')"
     ],
     "language": "python",
     "metadata": {},
     "outputs": [],
     "prompt_number": 16
    },
    {
     "cell_type": "markdown",
     "metadata": {},
     "source": [
      "# merge"
     ]
    },
    {
     "cell_type": "code",
     "collapsed": false,
     "input": [
      "program = program.merge(hmis_individuals, left_on='Raw Subject Unique Identifier', right_index=True, how='left')\n",
      "program = program.merge(hmis_families, left_on='Raw Subject Unique Identifier', right_index=True, how='left')\n",
      "client = client.merge(cp_individuals, left_on='Raw Clientid', right_index=True, how='left')\n",
      "client = client.merge(cp_families, left_on='Raw Clientid', right_index=True, how='left')"
     ],
     "language": "python",
     "metadata": {},
     "outputs": [],
     "prompt_number": 17
    },
    {
     "cell_type": "markdown",
     "metadata": {},
     "source": [
      "# check"
     ]
    },
    {
     "cell_type": "code",
     "collapsed": false,
     "input": [
      "#program.set_index(['Family Identifier','Program Start Date','Subject Unique Identifier'])[['Raw Subject Unique Identifier','Family Site Identifier','Program Name','DOB']].sort()"
     ],
     "language": "python",
     "metadata": {},
     "outputs": [],
     "prompt_number": 18
    },
    {
     "cell_type": "code",
     "collapsed": false,
     "input": [
      "#client.set_index(['Familyid','Caseid','Clientid']).sort()"
     ],
     "language": "python",
     "metadata": {},
     "outputs": [],
     "prompt_number": 19
    },
    {
     "cell_type": "code",
     "collapsed": false,
     "input": [
      "#hmis_fuzzy_dups = pd.read_csv('../data/hmis/hmis_client_duplicates_link_plus.csv')\n",
      "#cp_fuzzy_dups = pd.read_csv('../data/connecting_point/cp_client_duplicates_link_plus.csv')"
     ],
     "language": "python",
     "metadata": {},
     "outputs": [],
     "prompt_number": 20
    }
   ],
   "metadata": {}
  }
 ]
}