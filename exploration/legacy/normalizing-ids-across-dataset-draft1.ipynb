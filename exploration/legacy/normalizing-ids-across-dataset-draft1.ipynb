{
 "metadata": {
  "name": "",
  "signature": "sha256:03fcb0ea393e7d3fd57c5cdfe6a030c86efe71f6b2469a0c8bc5648fcea19b78"
 },
 "nbformat": 3,
 "nbformat_minor": 0,
 "worksheets": [
  {
   "cells": [
    {
     "cell_type": "code",
     "collapsed": false,
     "input": [
      "import pandas as pd\n",
      "import clean\n",
      "import networkx as nx"
     ],
     "language": "python",
     "metadata": {},
     "outputs": [],
     "prompt_number": 1
    },
    {
     "cell_type": "code",
     "collapsed": false,
     "input": [
      "matching = pd.read_csv('../data/matching/cp_hmis_match_results.csv')"
     ],
     "language": "python",
     "metadata": {},
     "outputs": [],
     "prompt_number": 2
    },
    {
     "cell_type": "code",
     "collapsed": false,
     "input": [
      "# NOTE: this assumes that no individual has a non-positive clientid\n",
      "matching['negclientid'] = -matching['clientid']"
     ],
     "language": "python",
     "metadata": {},
     "outputs": [],
     "prompt_number": 3
    },
    {
     "cell_type": "code",
     "collapsed": false,
     "input": [
      "G = nx.Graph([tuple(e) for e in matching[['negclientid','Subject Unique Identifier']].dropna().values])"
     ],
     "language": "python",
     "metadata": {},
     "outputs": [],
     "prompt_number": 5
    },
    {
     "cell_type": "code",
     "collapsed": false,
     "input": [
      "components = [f for f in nx.connected_components(G)]"
     ],
     "language": "python",
     "metadata": {},
     "outputs": [],
     "prompt_number": 6
    },
    {
     "cell_type": "code",
     "collapsed": false,
     "input": [
      "# NOTE: this assumes that no individual has a non-positive clientid\n",
      "cp_components = [map(lambda x: -x, filter(lambda x: x < 0, component)) for component in components]"
     ],
     "language": "python",
     "metadata": {},
     "outputs": [],
     "prompt_number": 7
    },
    {
     "cell_type": "code",
     "collapsed": false,
     "input": [
      "hmis_components = [filter(lambda x: x > 0, component) for component in components]"
     ],
     "language": "python",
     "metadata": {},
     "outputs": [],
     "prompt_number": 8
    },
    {
     "cell_type": "code",
     "collapsed": false,
     "input": [
      "hmis_r = pd.DataFrame({'reclink Subject Unique Identifier': pd.Series({iid: idx for idx, component in enumerate(hmis_components) for iid in component})})"
     ],
     "language": "python",
     "metadata": {},
     "outputs": [],
     "prompt_number": 11
    },
    {
     "cell_type": "code",
     "collapsed": false,
     "input": [
      "cp_r = pd.DataFrame({'reclink Clientid': pd.Series({iid: idx for idx, component in enumerate(cp_components) for iid in component})})"
     ],
     "language": "python",
     "metadata": {},
     "outputs": [],
     "prompt_number": 12
    },
    {
     "cell_type": "markdown",
     "metadata": {},
     "source": [
      "# Check client"
     ]
    },
    {
     "cell_type": "code",
     "collapsed": false,
     "input": [
      "client = clean.get_cp_client().merge(cp_r, left_on='Raw Clientid', right_index=True, how='left')"
     ],
     "language": "python",
     "metadata": {},
     "outputs": [],
     "prompt_number": 18
    },
    {
     "cell_type": "code",
     "collapsed": false,
     "input": [
      "client[['Clientid','Raw Clientid','reclink Clientid']].groupby('reclink Clientid').apply(lambda df: len(df['Clientid'].unique())).value_counts()"
     ],
     "language": "python",
     "metadata": {},
     "outputs": [
      {
       "metadata": {},
       "output_type": "pyout",
       "prompt_number": 25,
       "text": [
        "1    2877\n",
        "2       2\n",
        "dtype: int64"
       ]
      }
     ],
     "prompt_number": 25
    },
    {
     "cell_type": "markdown",
     "metadata": {},
     "source": [
      "# Check program"
     ]
    },
    {
     "cell_type": "code",
     "collapsed": false,
     "input": [
      "program = clean.get_program()"
     ],
     "language": "python",
     "metadata": {},
     "outputs": [],
     "prompt_number": 14
    },
    {
     "cell_type": "code",
     "collapsed": false,
     "input": [
      "program = program.merge(hmis_r, left_on='Raw Subject Unique Identifier', right_index=True, how='left')"
     ],
     "language": "python",
     "metadata": {},
     "outputs": [],
     "prompt_number": 27
    },
    {
     "cell_type": "code",
     "collapsed": false,
     "input": [
      "program[['Subject Unique Identifier','Raw Subject Unique Identifier','reclink Subject Unique Identifier']].groupby('reclink Subject Unique Identifier').apply(lambda df: len(df['Subject Unique Identifier'].unique())).value_counts()"
     ],
     "language": "python",
     "metadata": {},
     "outputs": [
      {
       "metadata": {},
       "output_type": "pyout",
       "prompt_number": 28,
       "text": [
        "1    2892\n",
        "dtype: int64"
       ]
      }
     ],
     "prompt_number": 28
    }
   ],
   "metadata": {}
  }
 ]
}