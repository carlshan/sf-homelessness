{
 "metadata": {
  "name": "",
  "signature": "sha256:384c077613c616886f575d2ffd12efdf9e712e306b0cac9f3df8997472ce7fe1"
 },
 "nbformat": 3,
 "nbformat_minor": 0,
 "worksheets": [
  {
   "cells": [
    {
     "cell_type": "code",
     "collapsed": false,
     "input": [
      "# Initial exploration of datasets\n",
      "# 10/22/2014\n",
      "# by Carl"
     ],
     "language": "python",
     "metadata": {},
     "outputs": [],
     "prompt_number": 1
    },
    {
     "cell_type": "markdown",
     "metadata": {},
     "source": [
      "1. How many families are currently in shelter? (At the time Candace pulled the HMIS data set)\n",
      "2. Of these families, how many reported eviction (or inability to pay rent or job loss) as their reason for homelessness?\n",
      "3. On average, how many families were in shelter in each of the following years: 2014, 2013, 2012, 2011, 2010 \n",
      "4. How many families are currently on the waitlist? (At the time the CP data extraction took place)\n",
      "5. Of these families, how many reported eviction (or inability to pay rent or job loss) as their reason for homelessness?\n",
      "6. On average, how many families were on the waitlist in each of the following years: 2014, 2013, 2012, 2011, 2010 "
     ]
    },
    {
     "cell_type": "code",
     "collapsed": false,
     "input": [
      "import time\n",
      "import datetime\n",
      "import pandas as pd"
     ],
     "language": "python",
     "metadata": {},
     "outputs": [],
     "prompt_number": 1
    },
    {
     "cell_type": "code",
     "collapsed": false,
     "input": [
      "# load the data\n",
      "program_data = pd.read_csv('../data/program.csv')\n",
      "client_data = pd.read_csv('../data/client de-identified.csv')\n",
      "program_type_data = pd.read_csv('../data/program type.csv')\n",
      "family_data = pd.read_csv('../data/family.csv')\n",
      "assessment_data = pd.read_csv('../data/assessment.csv')"
     ],
     "language": "python",
     "metadata": {},
     "outputs": [],
     "prompt_number": 2
    },
    {
     "cell_type": "code",
     "collapsed": false,
     "input": [
      "program_data['Converted Program Start Date'] = pd.to_datetime(program_data['Program Start Date'])"
     ],
     "language": "python",
     "metadata": {},
     "outputs": [],
     "prompt_number": 3
    },
    {
     "cell_type": "code",
     "collapsed": false,
     "input": [
      "program_data['Converted Program End Date'] = pd.to_datetime(program_data['Program End Date'])"
     ],
     "language": "python",
     "metadata": {},
     "outputs": [],
     "prompt_number": 4
    },
    {
     "cell_type": "code",
     "collapsed": false,
     "input": [
      "client_data['Converted DOB'] = pd.to_datetime(client_data['DOB'])"
     ],
     "language": "python",
     "metadata": {},
     "outputs": [],
     "prompt_number": 5
    },
    {
     "cell_type": "markdown",
     "metadata": {},
     "source": [
      "### Question 1: How many families are currently in shelter? (At the time Candace pulled the HMIS data set)"
     ]
    },
    {
     "cell_type": "code",
     "collapsed": false,
     "input": [
      "# I calculate families by looking at the number of Subject Unique Identifiers\n",
      "# that corresponding to a Head of Household in the families.csv\n",
      "# I find that the Relationship field is a better indicator than the Head of Household\n",
      "# field"
     ],
     "language": "python",
     "metadata": {},
     "outputs": [],
     "prompt_number": 6
    },
    {
     "cell_type": "code",
     "collapsed": false,
     "input": [
      "heads_of_households = family_data[family_data['Relationship'] == 'Self/Head of Household']['Subject Unique Identifier'].unique()"
     ],
     "language": "python",
     "metadata": {},
     "outputs": [],
     "prompt_number": 7
    },
    {
     "cell_type": "code",
     "collapsed": false,
     "input": [
      "family_programs = [\"Hamilton Family Emergency Shelter\", \n",
      "                   \"Hamilton Family Residence\", \n",
      "                   \"Compass Family Center\", \n",
      "                   \"St. Josephs Family Center\"]"
     ],
     "language": "python",
     "metadata": {},
     "outputs": [],
     "prompt_number": 8
    },
    {
     "cell_type": "code",
     "collapsed": false,
     "input": [
      "individuals_homeless_now = program_data[program_data['Program End Date'].isnull() \n",
      "             & program_data['Program Name'].isin(family_programs)]['Subject Unique Identifier']"
     ],
     "language": "python",
     "metadata": {},
     "outputs": [],
     "prompt_number": 9
    },
    {
     "cell_type": "code",
     "collapsed": false,
     "input": [
      "# There seem to be 62 heads of households\n",
      "# Assuming there is a 1-1 relationshiph between HoH and families \n",
      "# (this is known to be false, as some families\n",
      "# have multiple heads but it is an approximate assumption)\n",
      "# there are about 62 families in these 4 shelters right now\n",
      "heads_of_households_homeless_now = set(individuals_homeless_now).intersection(set(heads_of_households))\n",
      "print len(heads_of_households_homeless_now)"
     ],
     "language": "python",
     "metadata": {},
     "outputs": [
      {
       "output_type": "stream",
       "stream": "stdout",
       "text": [
        "62\n"
       ]
      }
     ],
     "prompt_number": 10
    },
    {
     "cell_type": "code",
     "collapsed": false,
     "input": [
      "# Sanity checking\n",
      "# Look at number of unique identifiers each family id in "
     ],
     "language": "python",
     "metadata": {},
     "outputs": []
    },
    {
     "cell_type": "code",
     "collapsed": false,
     "input": [
      "def return_multiple_individuals_with_family_site_identifier(fsi):\n",
      "    results = indexed_family_data.ix[[fsi]]\n",
      "    unique_ids = results['Subject Unique Identifier'].unique()\n",
      "    if len(unique_ids) >= 2:\n",
      "        return True\n",
      "    else:\n",
      "        return False\n",
      "    "
     ],
     "language": "python",
     "metadata": {},
     "outputs": [],
     "prompt_number": 30
    },
    {
     "cell_type": "code",
     "collapsed": false,
     "input": [
      "indexed_family_data = family_data.set_index('Family Site Identifier')"
     ],
     "language": "python",
     "metadata": {},
     "outputs": [],
     "prompt_number": 26
    },
    {
     "cell_type": "code",
     "collapsed": false,
     "input": [
      "family_data['Multiple Individuals in Family?'] = family_data['Family Site Identifier'].apply(return_multiple_individuals_with_family_site_identifier)"
     ],
     "language": "python",
     "metadata": {},
     "outputs": [],
     "prompt_number": 31
    },
    {
     "cell_type": "code",
     "collapsed": false,
     "input": [
      "family_data[family_data['Multiple Individuals in Family?']]"
     ],
     "language": "python",
     "metadata": {},
     "outputs": [
      {
       "html": [
        "<div style=\"max-height:1000px;max-width:1500px;overflow:auto;\">\n",
        "<table border=\"1\" class=\"dataframe\">\n",
        "  <thead>\n",
        "    <tr style=\"text-align: right;\">\n",
        "      <th></th>\n",
        "      <th>Subject Unique Identifier</th>\n",
        "      <th>Family Site Identifier</th>\n",
        "      <th>Head of Household</th>\n",
        "      <th>Relationship</th>\n",
        "      <th>Multiple Individuals in Family?</th>\n",
        "    </tr>\n",
        "  </thead>\n",
        "  <tbody>\n",
        "    <tr>\n",
        "      <th>1    </th>\n",
        "      <td>     9</td>\n",
        "      <td>   461</td>\n",
        "      <td>  True</td>\n",
        "      <td> Self/Head of Household</td>\n",
        "      <td> True</td>\n",
        "    </tr>\n",
        "    <tr>\n",
        "      <th>2    </th>\n",
        "      <td>    10</td>\n",
        "      <td>   461</td>\n",
        "      <td> False</td>\n",
        "      <td>                  Child</td>\n",
        "      <td> True</td>\n",
        "    </tr>\n",
        "    <tr>\n",
        "      <th>3    </th>\n",
        "      <td>    11</td>\n",
        "      <td>   461</td>\n",
        "      <td> False</td>\n",
        "      <td>                  Child</td>\n",
        "      <td> True</td>\n",
        "    </tr>\n",
        "    <tr>\n",
        "      <th>5    </th>\n",
        "      <td>    13</td>\n",
        "      <td>   466</td>\n",
        "      <td> False</td>\n",
        "      <td> Self/Head of Household</td>\n",
        "      <td> True</td>\n",
        "    </tr>\n",
        "    <tr>\n",
        "      <th>6    </th>\n",
        "      <td>    14</td>\n",
        "      <td>   466</td>\n",
        "      <td> False</td>\n",
        "      <td>                  Child</td>\n",
        "      <td> True</td>\n",
        "    </tr>\n",
        "    <tr>\n",
        "      <th>7    </th>\n",
        "      <td>    15</td>\n",
        "      <td>   467</td>\n",
        "      <td>  True</td>\n",
        "      <td> Self/Head of Household</td>\n",
        "      <td> True</td>\n",
        "    </tr>\n",
        "    <tr>\n",
        "      <th>8    </th>\n",
        "      <td>    16</td>\n",
        "      <td>   467</td>\n",
        "      <td> False</td>\n",
        "      <td>    Non-married Partner</td>\n",
        "      <td> True</td>\n",
        "    </tr>\n",
        "    <tr>\n",
        "      <th>9    </th>\n",
        "      <td>    17</td>\n",
        "      <td>   467</td>\n",
        "      <td> False</td>\n",
        "      <td>    Non-married Partner</td>\n",
        "      <td> True</td>\n",
        "    </tr>\n",
        "    <tr>\n",
        "      <th>10   </th>\n",
        "      <td>    18</td>\n",
        "      <td>   467</td>\n",
        "      <td> False</td>\n",
        "      <td>    Non-married Partner</td>\n",
        "      <td> True</td>\n",
        "    </tr>\n",
        "    <tr>\n",
        "      <th>11   </th>\n",
        "      <td>    19</td>\n",
        "      <td>   467</td>\n",
        "      <td> False</td>\n",
        "      <td>                  Child</td>\n",
        "      <td> True</td>\n",
        "    </tr>\n",
        "    <tr>\n",
        "      <th>12   </th>\n",
        "      <td>    20</td>\n",
        "      <td>   468</td>\n",
        "      <td>  True</td>\n",
        "      <td> Self/Head of Household</td>\n",
        "      <td> True</td>\n",
        "    </tr>\n",
        "    <tr>\n",
        "      <th>13   </th>\n",
        "      <td>    21</td>\n",
        "      <td>   468</td>\n",
        "      <td> False</td>\n",
        "      <td>    Non-married Partner</td>\n",
        "      <td> True</td>\n",
        "    </tr>\n",
        "    <tr>\n",
        "      <th>14   </th>\n",
        "      <td>    22</td>\n",
        "      <td>   468</td>\n",
        "      <td> False</td>\n",
        "      <td>    Non-married Partner</td>\n",
        "      <td> True</td>\n",
        "    </tr>\n",
        "    <tr>\n",
        "      <th>15   </th>\n",
        "      <td>    23</td>\n",
        "      <td>   468</td>\n",
        "      <td> False</td>\n",
        "      <td>                  Child</td>\n",
        "      <td> True</td>\n",
        "    </tr>\n",
        "    <tr>\n",
        "      <th>16   </th>\n",
        "      <td>    24</td>\n",
        "      <td>   468</td>\n",
        "      <td> False</td>\n",
        "      <td>                  Child</td>\n",
        "      <td> True</td>\n",
        "    </tr>\n",
        "    <tr>\n",
        "      <th>21   </th>\n",
        "      <td>    29</td>\n",
        "      <td>   478</td>\n",
        "      <td>  True</td>\n",
        "      <td> Self/Head of Household</td>\n",
        "      <td> True</td>\n",
        "    </tr>\n",
        "    <tr>\n",
        "      <th>22   </th>\n",
        "      <td>    30</td>\n",
        "      <td>   478</td>\n",
        "      <td> False</td>\n",
        "      <td>                  Child</td>\n",
        "      <td> True</td>\n",
        "    </tr>\n",
        "    <tr>\n",
        "      <th>23   </th>\n",
        "      <td>    31</td>\n",
        "      <td>   478</td>\n",
        "      <td> False</td>\n",
        "      <td>                  Child</td>\n",
        "      <td> True</td>\n",
        "    </tr>\n",
        "    <tr>\n",
        "      <th>24   </th>\n",
        "      <td>    32</td>\n",
        "      <td>   478</td>\n",
        "      <td> False</td>\n",
        "      <td>                  Child</td>\n",
        "      <td> True</td>\n",
        "    </tr>\n",
        "    <tr>\n",
        "      <th>25   </th>\n",
        "      <td>    33</td>\n",
        "      <td>   479</td>\n",
        "      <td>  True</td>\n",
        "      <td> Self/Head of Household</td>\n",
        "      <td> True</td>\n",
        "    </tr>\n",
        "    <tr>\n",
        "      <th>26   </th>\n",
        "      <td>    34</td>\n",
        "      <td>   479</td>\n",
        "      <td> False</td>\n",
        "      <td>                  Child</td>\n",
        "      <td> True</td>\n",
        "    </tr>\n",
        "    <tr>\n",
        "      <th>27   </th>\n",
        "      <td>    35</td>\n",
        "      <td>   479</td>\n",
        "      <td> False</td>\n",
        "      <td>                  Child</td>\n",
        "      <td> True</td>\n",
        "    </tr>\n",
        "    <tr>\n",
        "      <th>28   </th>\n",
        "      <td>    36</td>\n",
        "      <td>   482</td>\n",
        "      <td>  True</td>\n",
        "      <td> Self/Head of Household</td>\n",
        "      <td> True</td>\n",
        "    </tr>\n",
        "    <tr>\n",
        "      <th>29   </th>\n",
        "      <td>    37</td>\n",
        "      <td>   482</td>\n",
        "      <td> False</td>\n",
        "      <td>                  Child</td>\n",
        "      <td> True</td>\n",
        "    </tr>\n",
        "    <tr>\n",
        "      <th>30   </th>\n",
        "      <td>    38</td>\n",
        "      <td>   482</td>\n",
        "      <td> False</td>\n",
        "      <td>                  Child</td>\n",
        "      <td> True</td>\n",
        "    </tr>\n",
        "    <tr>\n",
        "      <th>31   </th>\n",
        "      <td>    39</td>\n",
        "      <td>   483</td>\n",
        "      <td>  True</td>\n",
        "      <td> Self/Head of Household</td>\n",
        "      <td> True</td>\n",
        "    </tr>\n",
        "    <tr>\n",
        "      <th>32   </th>\n",
        "      <td>    40</td>\n",
        "      <td>   483</td>\n",
        "      <td> False</td>\n",
        "      <td>                  Child</td>\n",
        "      <td> True</td>\n",
        "    </tr>\n",
        "    <tr>\n",
        "      <th>33   </th>\n",
        "      <td>    41</td>\n",
        "      <td>   483</td>\n",
        "      <td> False</td>\n",
        "      <td>                  Child</td>\n",
        "      <td> True</td>\n",
        "    </tr>\n",
        "    <tr>\n",
        "      <th>34   </th>\n",
        "      <td>    42</td>\n",
        "      <td>   484</td>\n",
        "      <td>  True</td>\n",
        "      <td> Self/Head of Household</td>\n",
        "      <td> True</td>\n",
        "    </tr>\n",
        "    <tr>\n",
        "      <th>35   </th>\n",
        "      <td>    43</td>\n",
        "      <td>   484</td>\n",
        "      <td> False</td>\n",
        "      <td>                  Child</td>\n",
        "      <td> True</td>\n",
        "    </tr>\n",
        "    <tr>\n",
        "      <th>...</th>\n",
        "      <td>...</td>\n",
        "      <td>...</td>\n",
        "      <td>...</td>\n",
        "      <td>...</td>\n",
        "      <td>...</td>\n",
        "    </tr>\n",
        "    <tr>\n",
        "      <th>52413</th>\n",
        "      <td> 58583</td>\n",
        "      <td> 29725</td>\n",
        "      <td> False</td>\n",
        "      <td>                  Child</td>\n",
        "      <td> True</td>\n",
        "    </tr>\n",
        "    <tr>\n",
        "      <th>52423</th>\n",
        "      <td> 58601</td>\n",
        "      <td> 29736</td>\n",
        "      <td>  True</td>\n",
        "      <td> Self/Head of Household</td>\n",
        "      <td> True</td>\n",
        "    </tr>\n",
        "    <tr>\n",
        "      <th>52424</th>\n",
        "      <td> 58602</td>\n",
        "      <td> 29736</td>\n",
        "      <td> False</td>\n",
        "      <td>                  Child</td>\n",
        "      <td> True</td>\n",
        "    </tr>\n",
        "    <tr>\n",
        "      <th>52425</th>\n",
        "      <td> 58603</td>\n",
        "      <td> 29736</td>\n",
        "      <td> False</td>\n",
        "      <td>                  Child</td>\n",
        "      <td> True</td>\n",
        "    </tr>\n",
        "    <tr>\n",
        "      <th>52462</th>\n",
        "      <td> 58652</td>\n",
        "      <td> 29782</td>\n",
        "      <td>  True</td>\n",
        "      <td> Self/Head of Household</td>\n",
        "      <td> True</td>\n",
        "    </tr>\n",
        "    <tr>\n",
        "      <th>52463</th>\n",
        "      <td> 58653</td>\n",
        "      <td> 29782</td>\n",
        "      <td> False</td>\n",
        "      <td>                  Child</td>\n",
        "      <td> True</td>\n",
        "    </tr>\n",
        "    <tr>\n",
        "      <th>52464</th>\n",
        "      <td> 58654</td>\n",
        "      <td> 29782</td>\n",
        "      <td> False</td>\n",
        "      <td>                  Child</td>\n",
        "      <td> True</td>\n",
        "    </tr>\n",
        "    <tr>\n",
        "      <th>52465</th>\n",
        "      <td> 58655</td>\n",
        "      <td> 29783</td>\n",
        "      <td>  True</td>\n",
        "      <td> Self/Head of Household</td>\n",
        "      <td> True</td>\n",
        "    </tr>\n",
        "    <tr>\n",
        "      <th>52466</th>\n",
        "      <td> 58656</td>\n",
        "      <td> 29783</td>\n",
        "      <td> False</td>\n",
        "      <td>                 Spouse</td>\n",
        "      <td> True</td>\n",
        "    </tr>\n",
        "    <tr>\n",
        "      <th>52467</th>\n",
        "      <td> 58657</td>\n",
        "      <td> 29783</td>\n",
        "      <td> False</td>\n",
        "      <td>                  Child</td>\n",
        "      <td> True</td>\n",
        "    </tr>\n",
        "    <tr>\n",
        "      <th>52468</th>\n",
        "      <td> 58658</td>\n",
        "      <td> 29783</td>\n",
        "      <td> False</td>\n",
        "      <td>                  Child</td>\n",
        "      <td> True</td>\n",
        "    </tr>\n",
        "    <tr>\n",
        "      <th>52469</th>\n",
        "      <td> 58659</td>\n",
        "      <td> 29783</td>\n",
        "      <td> False</td>\n",
        "      <td>                  Child</td>\n",
        "      <td> True</td>\n",
        "    </tr>\n",
        "    <tr>\n",
        "      <th>52489</th>\n",
        "      <td> 58685</td>\n",
        "      <td> 29804</td>\n",
        "      <td> False</td>\n",
        "      <td> Self/Head of Household</td>\n",
        "      <td> True</td>\n",
        "    </tr>\n",
        "    <tr>\n",
        "      <th>52490</th>\n",
        "      <td> 58686</td>\n",
        "      <td> 29804</td>\n",
        "      <td> False</td>\n",
        "      <td>                 Spouse</td>\n",
        "      <td> True</td>\n",
        "    </tr>\n",
        "    <tr>\n",
        "      <th>52491</th>\n",
        "      <td> 58687</td>\n",
        "      <td> 29804</td>\n",
        "      <td> False</td>\n",
        "      <td>                  Child</td>\n",
        "      <td> True</td>\n",
        "    </tr>\n",
        "    <tr>\n",
        "      <th>52492</th>\n",
        "      <td> 58688</td>\n",
        "      <td> 29804</td>\n",
        "      <td> False</td>\n",
        "      <td>                  Child</td>\n",
        "      <td> True</td>\n",
        "    </tr>\n",
        "    <tr>\n",
        "      <th>52500</th>\n",
        "      <td> 58717</td>\n",
        "      <td> 29826</td>\n",
        "      <td> False</td>\n",
        "      <td> Self/Head of Household</td>\n",
        "      <td> True</td>\n",
        "    </tr>\n",
        "    <tr>\n",
        "      <th>52501</th>\n",
        "      <td> 58718</td>\n",
        "      <td> 29826</td>\n",
        "      <td> False</td>\n",
        "      <td>                  Child</td>\n",
        "      <td> True</td>\n",
        "    </tr>\n",
        "    <tr>\n",
        "      <th>52508</th>\n",
        "      <td> 58727</td>\n",
        "      <td> 29834</td>\n",
        "      <td>  True</td>\n",
        "      <td> Self/Head of Household</td>\n",
        "      <td> True</td>\n",
        "    </tr>\n",
        "    <tr>\n",
        "      <th>52509</th>\n",
        "      <td> 58728</td>\n",
        "      <td> 29834</td>\n",
        "      <td> False</td>\n",
        "      <td>           Other Family</td>\n",
        "      <td> True</td>\n",
        "    </tr>\n",
        "    <tr>\n",
        "      <th>52510</th>\n",
        "      <td> 58729</td>\n",
        "      <td> 29835</td>\n",
        "      <td>  True</td>\n",
        "      <td> Self/Head of Household</td>\n",
        "      <td> True</td>\n",
        "    </tr>\n",
        "    <tr>\n",
        "      <th>52511</th>\n",
        "      <td> 58730</td>\n",
        "      <td> 29835</td>\n",
        "      <td> False</td>\n",
        "      <td>                 Spouse</td>\n",
        "      <td> True</td>\n",
        "    </tr>\n",
        "    <tr>\n",
        "      <th>52517</th>\n",
        "      <td> 58739</td>\n",
        "      <td> 29841</td>\n",
        "      <td>  True</td>\n",
        "      <td> Self/Head of Household</td>\n",
        "      <td> True</td>\n",
        "    </tr>\n",
        "    <tr>\n",
        "      <th>52518</th>\n",
        "      <td> 58740</td>\n",
        "      <td> 29841</td>\n",
        "      <td> False</td>\n",
        "      <td>                 Spouse</td>\n",
        "      <td> True</td>\n",
        "    </tr>\n",
        "    <tr>\n",
        "      <th>52520</th>\n",
        "      <td> 58744</td>\n",
        "      <td> 29843</td>\n",
        "      <td>  True</td>\n",
        "      <td> Self/Head of Household</td>\n",
        "      <td> True</td>\n",
        "    </tr>\n",
        "    <tr>\n",
        "      <th>52521</th>\n",
        "      <td> 58745</td>\n",
        "      <td> 29843</td>\n",
        "      <td> False</td>\n",
        "      <td>    Non-married Partner</td>\n",
        "      <td> True</td>\n",
        "    </tr>\n",
        "    <tr>\n",
        "      <th>52527</th>\n",
        "      <td> 58755</td>\n",
        "      <td> 29853</td>\n",
        "      <td>  True</td>\n",
        "      <td> Self/Head of Household</td>\n",
        "      <td> True</td>\n",
        "    </tr>\n",
        "    <tr>\n",
        "      <th>52528</th>\n",
        "      <td> 58756</td>\n",
        "      <td> 29853</td>\n",
        "      <td> False</td>\n",
        "      <td>                 Spouse</td>\n",
        "      <td> True</td>\n",
        "    </tr>\n",
        "    <tr>\n",
        "      <th>52533</th>\n",
        "      <td> 58768</td>\n",
        "      <td> 29858</td>\n",
        "      <td>  True</td>\n",
        "      <td> Self/Head of Household</td>\n",
        "      <td> True</td>\n",
        "    </tr>\n",
        "    <tr>\n",
        "      <th>52534</th>\n",
        "      <td> 58769</td>\n",
        "      <td> 29858</td>\n",
        "      <td> False</td>\n",
        "      <td>                  Child</td>\n",
        "      <td> True</td>\n",
        "    </tr>\n",
        "  </tbody>\n",
        "</table>\n",
        "<p>26166 rows \u00d7 5 columns</p>\n",
        "</div>"
       ],
       "metadata": {},
       "output_type": "pyout",
       "prompt_number": 39,
       "text": [
        "       Subject Unique Identifier  Family Site Identifier Head of Household  \\\n",
        "1                              9                     461              True   \n",
        "2                             10                     461             False   \n",
        "3                             11                     461             False   \n",
        "5                             13                     466             False   \n",
        "6                             14                     466             False   \n",
        "7                             15                     467              True   \n",
        "8                             16                     467             False   \n",
        "9                             17                     467             False   \n",
        "10                            18                     467             False   \n",
        "11                            19                     467             False   \n",
        "12                            20                     468              True   \n",
        "13                            21                     468             False   \n",
        "14                            22                     468             False   \n",
        "15                            23                     468             False   \n",
        "16                            24                     468             False   \n",
        "21                            29                     478              True   \n",
        "22                            30                     478             False   \n",
        "23                            31                     478             False   \n",
        "24                            32                     478             False   \n",
        "25                            33                     479              True   \n",
        "26                            34                     479             False   \n",
        "27                            35                     479             False   \n",
        "28                            36                     482              True   \n",
        "29                            37                     482             False   \n",
        "30                            38                     482             False   \n",
        "31                            39                     483              True   \n",
        "32                            40                     483             False   \n",
        "33                            41                     483             False   \n",
        "34                            42                     484              True   \n",
        "35                            43                     484             False   \n",
        "...                          ...                     ...               ...   \n",
        "52413                      58583                   29725             False   \n",
        "52423                      58601                   29736              True   \n",
        "52424                      58602                   29736             False   \n",
        "52425                      58603                   29736             False   \n",
        "52462                      58652                   29782              True   \n",
        "52463                      58653                   29782             False   \n",
        "52464                      58654                   29782             False   \n",
        "52465                      58655                   29783              True   \n",
        "52466                      58656                   29783             False   \n",
        "52467                      58657                   29783             False   \n",
        "52468                      58658                   29783             False   \n",
        "52469                      58659                   29783             False   \n",
        "52489                      58685                   29804             False   \n",
        "52490                      58686                   29804             False   \n",
        "52491                      58687                   29804             False   \n",
        "52492                      58688                   29804             False   \n",
        "52500                      58717                   29826             False   \n",
        "52501                      58718                   29826             False   \n",
        "52508                      58727                   29834              True   \n",
        "52509                      58728                   29834             False   \n",
        "52510                      58729                   29835              True   \n",
        "52511                      58730                   29835             False   \n",
        "52517                      58739                   29841              True   \n",
        "52518                      58740                   29841             False   \n",
        "52520                      58744                   29843              True   \n",
        "52521                      58745                   29843             False   \n",
        "52527                      58755                   29853              True   \n",
        "52528                      58756                   29853             False   \n",
        "52533                      58768                   29858              True   \n",
        "52534                      58769                   29858             False   \n",
        "\n",
        "                 Relationship Multiple Individuals in Family?  \n",
        "1      Self/Head of Household                            True  \n",
        "2                       Child                            True  \n",
        "3                       Child                            True  \n",
        "5      Self/Head of Household                            True  \n",
        "6                       Child                            True  \n",
        "7      Self/Head of Household                            True  \n",
        "8         Non-married Partner                            True  \n",
        "9         Non-married Partner                            True  \n",
        "10        Non-married Partner                            True  \n",
        "11                      Child                            True  \n",
        "12     Self/Head of Household                            True  \n",
        "13        Non-married Partner                            True  \n",
        "14        Non-married Partner                            True  \n",
        "15                      Child                            True  \n",
        "16                      Child                            True  \n",
        "21     Self/Head of Household                            True  \n",
        "22                      Child                            True  \n",
        "23                      Child                            True  \n",
        "24                      Child                            True  \n",
        "25     Self/Head of Household                            True  \n",
        "26                      Child                            True  \n",
        "27                      Child                            True  \n",
        "28     Self/Head of Household                            True  \n",
        "29                      Child                            True  \n",
        "30                      Child                            True  \n",
        "31     Self/Head of Household                            True  \n",
        "32                      Child                            True  \n",
        "33                      Child                            True  \n",
        "34     Self/Head of Household                            True  \n",
        "35                      Child                            True  \n",
        "...                       ...                             ...  \n",
        "52413                   Child                            True  \n",
        "52423  Self/Head of Household                            True  \n",
        "52424                   Child                            True  \n",
        "52425                   Child                            True  \n",
        "52462  Self/Head of Household                            True  \n",
        "52463                   Child                            True  \n",
        "52464                   Child                            True  \n",
        "52465  Self/Head of Household                            True  \n",
        "52466                  Spouse                            True  \n",
        "52467                   Child                            True  \n",
        "52468                   Child                            True  \n",
        "52469                   Child                            True  \n",
        "52489  Self/Head of Household                            True  \n",
        "52490                  Spouse                            True  \n",
        "52491                   Child                            True  \n",
        "52492                   Child                            True  \n",
        "52500  Self/Head of Household                            True  \n",
        "52501                   Child                            True  \n",
        "52508  Self/Head of Household                            True  \n",
        "52509            Other Family                            True  \n",
        "52510  Self/Head of Household                            True  \n",
        "52511                  Spouse                            True  \n",
        "52517  Self/Head of Household                            True  \n",
        "52518                  Spouse                            True  \n",
        "52520  Self/Head of Household                            True  \n",
        "52521     Non-married Partner                            True  \n",
        "52527  Self/Head of Household                            True  \n",
        "52528                  Spouse                            True  \n",
        "52533  Self/Head of Household                            True  \n",
        "52534                   Child                            True  \n",
        "\n",
        "[26166 rows x 5 columns]"
       ]
      }
     ],
     "prompt_number": 39
    },
    {
     "cell_type": "code",
     "collapsed": false,
     "input": [],
     "language": "python",
     "metadata": {},
     "outputs": []
    },
    {
     "cell_type": "markdown",
     "metadata": {},
     "source": [
      "### Question 3: On average, how many families were in shelter in each of the following years: 2014, 2013, 2012, 2011, 2010 "
     ]
    },
    {
     "cell_type": "code",
     "collapsed": false,
     "input": [
      "# A family will be counted in a year if they either entered or exited\n",
      "# that program in that year"
     ],
     "language": "python",
     "metadata": {},
     "outputs": [],
     "prompt_number": 155
    },
    {
     "cell_type": "code",
     "collapsed": false,
     "input": [
      "program_data['Program End Year'] = program_data['Program End Date'].apply(lambda val: val if pd.isnull(val) else datetime.datetime.strptime(val, '%Y/%m/%d %H:%M:%S').year)"
     ],
     "language": "python",
     "metadata": {},
     "outputs": [],
     "prompt_number": 150
    },
    {
     "cell_type": "code",
     "collapsed": false,
     "input": [
      "program_data['Program Start Year'] = program_data['Program Start Date'].apply(lambda val: val if pd.isnull(val) else datetime.datetime.strptime(val, '%Y/%m/%d %H:%M:%S').year)"
     ],
     "language": "python",
     "metadata": {},
     "outputs": [],
     "prompt_number": 152
    },
    {
     "cell_type": "code",
     "collapsed": false,
     "input": [
      "program_data['Program Start Year'].value_counts()"
     ],
     "language": "python",
     "metadata": {},
     "outputs": [
      {
       "metadata": {},
       "output_type": "pyout",
       "prompt_number": 153,
       "text": [
        "2012    45948\n",
        "2013    43838\n",
        "2011    22174\n",
        "2010     6284\n",
        "2009     4190\n",
        "2005     3204\n",
        "2006     3179\n",
        "2007     3158\n",
        "2008     3157\n",
        "2014     2209\n",
        "2004      167\n",
        "2002      105\n",
        "2003      105\n",
        "2000       90\n",
        "2001       54\n",
        "1999       52\n",
        "1997       45\n",
        "1998       39\n",
        "1995       14\n",
        "1996       10\n",
        "1994       10\n",
        "1900        9\n",
        "1993        5\n",
        "1992        4\n",
        "1989        4\n",
        "1991        3\n",
        "1988        2\n",
        "1982        2\n",
        "2026        1\n",
        "2015        1\n",
        "1984        1\n",
        "1978        1\n",
        "1973        1\n",
        "1972        1\n",
        "1970        1\n",
        "1958        1\n",
        "2031        1\n",
        "dtype: int64"
       ]
      }
     ],
     "prompt_number": 153
    },
    {
     "cell_type": "code",
     "collapsed": false,
     "input": [
      "program_data['Program End Year'].value_counts()"
     ],
     "language": "python",
     "metadata": {},
     "outputs": [
      {
       "metadata": {},
       "output_type": "pyout",
       "prompt_number": 151,
       "text": [
        "2013    46367\n",
        "2012    43328\n",
        "2011    19092\n",
        "2010     4482\n",
        "2009     3113\n",
        "2008     2449\n",
        "2006     2249\n",
        "2005     1726\n",
        "2007     1699\n",
        "2014     1613\n",
        "1900        9\n",
        "2004        8\n",
        "2003        6\n",
        "2001        3\n",
        "2000        3\n",
        "2002        2\n",
        "dtype: int64"
       ]
      }
     ],
     "prompt_number": 151
    },
    {
     "cell_type": "code",
     "collapsed": false,
     "input": [],
     "language": "python",
     "metadata": {},
     "outputs": []
    },
    {
     "cell_type": "code",
     "collapsed": false,
     "input": [
      "family_data.columns"
     ],
     "language": "python",
     "metadata": {},
     "outputs": [
      {
       "metadata": {},
       "output_type": "pyout",
       "prompt_number": 195,
       "text": [
        "Index([u'Subject Unique Identifier', u'Family Site Identifier', u'Head of Household', u'Relationship'], dtype='object')"
       ]
      }
     ],
     "prompt_number": 195
    },
    {
     "cell_type": "code",
     "collapsed": false,
     "input": [
      "for year in range(2003, 2015):\n",
      "    print '{}: {}'.format(year, program_data[(program_data['Program End Year'].isin([year]) \n",
      "              | program_data['Program Start Year'].isin([year]))\n",
      "             & program_data['Program Name'].isin(family_programs)\n",
      "             & program_data['Subject Unique Identifier'].isin(heads_of_households)].shape[0])"
     ],
     "language": "python",
     "metadata": {},
     "outputs": [
      {
       "output_type": "stream",
       "stream": "stdout",
       "text": [
        "2003: 0\n",
        "2004: 0"
       ]
      },
      {
       "output_type": "stream",
       "stream": "stdout",
       "text": [
        "\n",
        "2005: 435"
       ]
      },
      {
       "output_type": "stream",
       "stream": "stdout",
       "text": [
        "\n",
        "2006: 496"
       ]
      },
      {
       "output_type": "stream",
       "stream": "stdout",
       "text": [
        "\n",
        "2007: 87"
       ]
      },
      {
       "output_type": "stream",
       "stream": "stdout",
       "text": [
        "\n",
        "2008: 86"
       ]
      },
      {
       "output_type": "stream",
       "stream": "stdout",
       "text": [
        "\n",
        "2009: 105"
       ]
      },
      {
       "output_type": "stream",
       "stream": "stdout",
       "text": [
        "\n",
        "2010: 81"
       ]
      },
      {
       "output_type": "stream",
       "stream": "stdout",
       "text": [
        "\n",
        "2011: 188"
       ]
      },
      {
       "output_type": "stream",
       "stream": "stdout",
       "text": [
        "\n",
        "2012: 407"
       ]
      },
      {
       "output_type": "stream",
       "stream": "stdout",
       "text": [
        "\n",
        "2013: 292"
       ]
      },
      {
       "output_type": "stream",
       "stream": "stdout",
       "text": [
        "\n",
        "2014: 16"
       ]
      },
      {
       "output_type": "stream",
       "stream": "stdout",
       "text": [
        "\n"
       ]
      }
     ],
     "prompt_number": 192
    },
    {
     "cell_type": "code",
     "collapsed": false,
     "input": [
      "for year in range(2003, 2015):\n",
      "    print '{}: {}'.format(year, program_data[program_data['Program End Year'].isin([year]) \n",
      "             & program_data['Program Name'].isin(family_programs)\n",
      "             & program_data['Subject Unique Identifier'].isin(heads_of_households)].shape[0])"
     ],
     "language": "python",
     "metadata": {},
     "outputs": [
      {
       "output_type": "stream",
       "stream": "stdout",
       "text": [
        "2003: 0\n",
        "2004: 0"
       ]
      },
      {
       "output_type": "stream",
       "stream": "stdout",
       "text": [
        "\n",
        "2005: 423"
       ]
      },
      {
       "output_type": "stream",
       "stream": "stdout",
       "text": [
        "\n",
        "2006: 486"
       ]
      },
      {
       "output_type": "stream",
       "stream": "stdout",
       "text": [
        "\n",
        "2007: 78"
       ]
      },
      {
       "output_type": "stream",
       "stream": "stdout",
       "text": [
        "\n",
        "2008: 74"
       ]
      },
      {
       "output_type": "stream",
       "stream": "stdout",
       "text": [
        "\n",
        "2009: 85"
       ]
      },
      {
       "output_type": "stream",
       "stream": "stdout",
       "text": [
        "\n",
        "2010: 70"
       ]
      },
      {
       "output_type": "stream",
       "stream": "stdout",
       "text": [
        "\n",
        "2011: 135"
       ]
      },
      {
       "output_type": "stream",
       "stream": "stdout",
       "text": [
        "\n",
        "2012: 333"
       ]
      },
      {
       "output_type": "stream",
       "stream": "stdout",
       "text": [
        "\n",
        "2013: 232"
       ]
      },
      {
       "output_type": "stream",
       "stream": "stdout",
       "text": [
        "\n",
        "2014: 13"
       ]
      },
      {
       "output_type": "stream",
       "stream": "stdout",
       "text": [
        "\n"
       ]
      }
     ],
     "prompt_number": 193
    },
    {
     "cell_type": "code",
     "collapsed": false,
     "input": [
      "for year in range(2003, 2015):\n",
      "    print '{}: {}'.format(year, program_data[program_data['Program Start Year'].isin([year]) \n",
      "             & program_data['Program Name'].isin(family_programs)\n",
      "             & program_data['Subject Unique Identifier'].isin(heads_of_households)].shape[0])"
     ],
     "language": "python",
     "metadata": {},
     "outputs": [
      {
       "output_type": "stream",
       "stream": "stdout",
       "text": [
        "2003: 0\n",
        "2004: 0"
       ]
      },
      {
       "output_type": "stream",
       "stream": "stdout",
       "text": [
        "\n",
        "2005: 435"
       ]
      },
      {
       "output_type": "stream",
       "stream": "stdout",
       "text": [
        "\n",
        "2006: 484"
       ]
      },
      {
       "output_type": "stream",
       "stream": "stdout",
       "text": [
        "\n",
        "2007: 77"
       ]
      },
      {
       "output_type": "stream",
       "stream": "stdout",
       "text": [
        "\n",
        "2008: 77"
       ]
      },
      {
       "output_type": "stream",
       "stream": "stdout",
       "text": [
        "\n",
        "2009: 93"
       ]
      },
      {
       "output_type": "stream",
       "stream": "stdout",
       "text": [
        "\n",
        "2010: 63"
       ]
      },
      {
       "output_type": "stream",
       "stream": "stdout",
       "text": [
        "\n",
        "2011: 175"
       ]
      },
      {
       "output_type": "stream",
       "stream": "stdout",
       "text": [
        "\n",
        "2012: 354"
       ]
      },
      {
       "output_type": "stream",
       "stream": "stdout",
       "text": [
        "\n",
        "2013: 223"
       ]
      },
      {
       "output_type": "stream",
       "stream": "stdout",
       "text": [
        "\n",
        "2014: 9"
       ]
      },
      {
       "output_type": "stream",
       "stream": "stdout",
       "text": [
        "\n"
       ]
      }
     ],
     "prompt_number": 194
    },
    {
     "cell_type": "code",
     "collapsed": false,
     "input": [],
     "language": "python",
     "metadata": {},
     "outputs": []
    }
   ],
   "metadata": {}
  }
 ]
}