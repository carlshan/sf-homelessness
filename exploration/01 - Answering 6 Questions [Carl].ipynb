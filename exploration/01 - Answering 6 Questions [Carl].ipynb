{
 "metadata": {
  "name": "",
  "signature": "sha256:78829df44947d0de88739182cde43b3b2ca1e268a6853b25663774db1e79fd5b"
 },
 "nbformat": 3,
 "nbformat_minor": 0,
 "worksheets": [
  {
   "cells": [
    {
     "cell_type": "code",
     "collapsed": false,
     "input": [
      "# Initial exploration of datasets\n",
      "# 10/22/2014\n",
      "# by Carl"
     ],
     "language": "python",
     "metadata": {},
     "outputs": [],
     "prompt_number": 1
    },
    {
     "cell_type": "markdown",
     "metadata": {},
     "source": [
      "1. How many families are currently in shelter? (At the time Candace pulled the HMIS data set)\n",
      "2. Of these families, how many reported eviction (or inability to pay rent or job loss) as their reason for homelessness?\n",
      "3. On average, how many families were in shelter in each of the following years: 2014, 2013, 2012, 2011, 2010 \n",
      "4. How many families are currently on the waitlist? (At the time the CP data extraction took place)\n",
      "5. Of these families, how many reported eviction (or inability to pay rent or job loss) as their reason for homelessness?\n",
      "6. On average, how many families were on the waitlist in each of the following years: 2014, 2013, 2012, 2011, 2010 "
     ]
    },
    {
     "cell_type": "code",
     "collapsed": false,
     "input": [
      "import time\n",
      "import datetime\n",
      "import pandas as pd"
     ],
     "language": "python",
     "metadata": {},
     "outputs": [],
     "prompt_number": 2
    },
    {
     "cell_type": "code",
     "collapsed": false,
     "input": [
      "# load the data\n",
      "program_data = pd.read_csv('../data/program.csv')\n",
      "client_data = pd.read_csv('../data/client de-identified.csv')\n",
      "program_type_data = pd.read_csv('../data/program type.csv')\n",
      "family_data = pd.read_csv('../data/family.csv')\n",
      "assessment_data = pd.read_csv('../data/assessment.csv')"
     ],
     "language": "python",
     "metadata": {},
     "outputs": [],
     "prompt_number": 3
    },
    {
     "cell_type": "code",
     "collapsed": false,
     "input": [
      "program_data['Converted Program Start Date'] = pd.to_datetime(program_data['Program Start Date'])"
     ],
     "language": "python",
     "metadata": {},
     "outputs": [],
     "prompt_number": 4
    },
    {
     "cell_type": "code",
     "collapsed": false,
     "input": [
      "program_data['Converted Program End Date'] = pd.to_datetime(program_data['Program End Date'])"
     ],
     "language": "python",
     "metadata": {},
     "outputs": [],
     "prompt_number": 8
    },
    {
     "cell_type": "code",
     "collapsed": false,
     "input": [
      "client_data['Converted DOB'] = pd.to_datetime(client_data['DOB'])"
     ],
     "language": "python",
     "metadata": {},
     "outputs": [],
     "prompt_number": 9
    },
    {
     "cell_type": "markdown",
     "metadata": {},
     "source": [
      "### Question 1: How many families are currently in shelter? (At the time Candace pulled the HMIS data set)"
     ]
    },
    {
     "cell_type": "code",
     "collapsed": false,
     "input": [
      "# I calculate families by looking at the number of Subject Unique Identifiers\n",
      "# that corresponding to a Head of Household in the families.csv\n",
      "# I find that the Relationship field is a better indicator than the Head of Household\n",
      "# field"
     ],
     "language": "python",
     "metadata": {},
     "outputs": [],
     "prompt_number": 196
    },
    {
     "cell_type": "code",
     "collapsed": false,
     "input": [
      "heads_of_households = family_data[family_data['Relationship'] == 'Self/Head of Household']['Subject Unique Identifier'].unique()"
     ],
     "language": "python",
     "metadata": {},
     "outputs": [],
     "prompt_number": 42
    },
    {
     "cell_type": "code",
     "collapsed": false,
     "input": [
      "family_programs = [\"Hamilton Family Emergency Shelter\", \n",
      "                   \"Hamilton Family Residence\", \n",
      "                   \"Compass Family Center\", \n",
      "                   \"St. Josephs Family Center\"]"
     ],
     "language": "python",
     "metadata": {},
     "outputs": [],
     "prompt_number": 45
    },
    {
     "cell_type": "code",
     "collapsed": false,
     "input": [
      "individuals_homeless_now = program_data[program_data['Program End Date'].isnull() \n",
      "             & program_data['Program Name'].isin(family_programs)]['Subject Unique Identifier']"
     ],
     "language": "python",
     "metadata": {},
     "outputs": [],
     "prompt_number": 53
    },
    {
     "cell_type": "code",
     "collapsed": false,
     "input": [
      "# There seem to be 62 heads of households\n",
      "# Assuming there is a 1-1 relationshiph between HoH and families \n",
      "# (this is known to be a false, as some families\n",
      "# have multiple heads but it is an approximate assumption)\n",
      "# there are about 62 families in these 4 shelters right now\n",
      "heads_of_households_homeless_now = set(individuals_homeless_now).intersection(set(heads_of_households))\n",
      "print len(heads_of_households_homeless_now)"
     ],
     "language": "python",
     "metadata": {},
     "outputs": [
      {
       "output_type": "stream",
       "stream": "stdout",
       "text": [
        "62\n"
       ]
      }
     ],
     "prompt_number": 55
    },
    {
     "cell_type": "markdown",
     "metadata": {},
     "source": [
      "### Question 3: On average, how many families were in shelter in each of the following years: 2014, 2013, 2012, 2011, 2010 "
     ]
    },
    {
     "cell_type": "code",
     "collapsed": false,
     "input": [
      "# A family will be counted in a year if they either entered or exited\n",
      "# that program in that year"
     ],
     "language": "python",
     "metadata": {},
     "outputs": [],
     "prompt_number": 155
    },
    {
     "cell_type": "code",
     "collapsed": false,
     "input": [
      "program_data['Program End Year'] = program_data['Program End Date'].apply(lambda val: val if pd.isnull(val) else datetime.datetime.strptime(val, '%Y/%m/%d %H:%M:%S').year)"
     ],
     "language": "python",
     "metadata": {},
     "outputs": [],
     "prompt_number": 150
    },
    {
     "cell_type": "code",
     "collapsed": false,
     "input": [
      "program_data['Program Start Year'] = program_data['Program Start Date'].apply(lambda val: val if pd.isnull(val) else datetime.datetime.strptime(val, '%Y/%m/%d %H:%M:%S').year)"
     ],
     "language": "python",
     "metadata": {},
     "outputs": [],
     "prompt_number": 152
    },
    {
     "cell_type": "code",
     "collapsed": false,
     "input": [
      "program_data['Program Start Year'].value_counts()"
     ],
     "language": "python",
     "metadata": {},
     "outputs": [
      {
       "metadata": {},
       "output_type": "pyout",
       "prompt_number": 153,
       "text": [
        "2012    45948\n",
        "2013    43838\n",
        "2011    22174\n",
        "2010     6284\n",
        "2009     4190\n",
        "2005     3204\n",
        "2006     3179\n",
        "2007     3158\n",
        "2008     3157\n",
        "2014     2209\n",
        "2004      167\n",
        "2002      105\n",
        "2003      105\n",
        "2000       90\n",
        "2001       54\n",
        "1999       52\n",
        "1997       45\n",
        "1998       39\n",
        "1995       14\n",
        "1996       10\n",
        "1994       10\n",
        "1900        9\n",
        "1993        5\n",
        "1992        4\n",
        "1989        4\n",
        "1991        3\n",
        "1988        2\n",
        "1982        2\n",
        "2026        1\n",
        "2015        1\n",
        "1984        1\n",
        "1978        1\n",
        "1973        1\n",
        "1972        1\n",
        "1970        1\n",
        "1958        1\n",
        "2031        1\n",
        "dtype: int64"
       ]
      }
     ],
     "prompt_number": 153
    },
    {
     "cell_type": "code",
     "collapsed": false,
     "input": [
      "program_data['Program End Year'].value_counts()"
     ],
     "language": "python",
     "metadata": {},
     "outputs": [
      {
       "metadata": {},
       "output_type": "pyout",
       "prompt_number": 151,
       "text": [
        "2013    46367\n",
        "2012    43328\n",
        "2011    19092\n",
        "2010     4482\n",
        "2009     3113\n",
        "2008     2449\n",
        "2006     2249\n",
        "2005     1726\n",
        "2007     1699\n",
        "2014     1613\n",
        "1900        9\n",
        "2004        8\n",
        "2003        6\n",
        "2001        3\n",
        "2000        3\n",
        "2002        2\n",
        "dtype: int64"
       ]
      }
     ],
     "prompt_number": 151
    },
    {
     "cell_type": "code",
     "collapsed": false,
     "input": [],
     "language": "python",
     "metadata": {},
     "outputs": []
    },
    {
     "cell_type": "code",
     "collapsed": false,
     "input": [
      "family_data.columns"
     ],
     "language": "python",
     "metadata": {},
     "outputs": [
      {
       "metadata": {},
       "output_type": "pyout",
       "prompt_number": 195,
       "text": [
        "Index([u'Subject Unique Identifier', u'Family Site Identifier', u'Head of Household', u'Relationship'], dtype='object')"
       ]
      }
     ],
     "prompt_number": 195
    },
    {
     "cell_type": "code",
     "collapsed": false,
     "input": [
      "for year in range(2003, 2015):\n",
      "    print '{}: {}'.format(year, program_data[(program_data['Program End Year'].isin([year]) \n",
      "              | program_data['Program Start Year'].isin([year]))\n",
      "             & program_data['Program Name'].isin(family_programs)\n",
      "             & program_data['Subject Unique Identifier'].isin(heads_of_households)].shape[0])"
     ],
     "language": "python",
     "metadata": {},
     "outputs": [
      {
       "output_type": "stream",
       "stream": "stdout",
       "text": [
        "2003: 0\n",
        "2004: 0"
       ]
      },
      {
       "output_type": "stream",
       "stream": "stdout",
       "text": [
        "\n",
        "2005: 435"
       ]
      },
      {
       "output_type": "stream",
       "stream": "stdout",
       "text": [
        "\n",
        "2006: 496"
       ]
      },
      {
       "output_type": "stream",
       "stream": "stdout",
       "text": [
        "\n",
        "2007: 87"
       ]
      },
      {
       "output_type": "stream",
       "stream": "stdout",
       "text": [
        "\n",
        "2008: 86"
       ]
      },
      {
       "output_type": "stream",
       "stream": "stdout",
       "text": [
        "\n",
        "2009: 105"
       ]
      },
      {
       "output_type": "stream",
       "stream": "stdout",
       "text": [
        "\n",
        "2010: 81"
       ]
      },
      {
       "output_type": "stream",
       "stream": "stdout",
       "text": [
        "\n",
        "2011: 188"
       ]
      },
      {
       "output_type": "stream",
       "stream": "stdout",
       "text": [
        "\n",
        "2012: 407"
       ]
      },
      {
       "output_type": "stream",
       "stream": "stdout",
       "text": [
        "\n",
        "2013: 292"
       ]
      },
      {
       "output_type": "stream",
       "stream": "stdout",
       "text": [
        "\n",
        "2014: 16"
       ]
      },
      {
       "output_type": "stream",
       "stream": "stdout",
       "text": [
        "\n"
       ]
      }
     ],
     "prompt_number": 192
    },
    {
     "cell_type": "code",
     "collapsed": false,
     "input": [
      "for year in range(2003, 2015):\n",
      "    print '{}: {}'.format(year, program_data[program_data['Program End Year'].isin([year]) \n",
      "             & program_data['Program Name'].isin(family_programs)\n",
      "             & program_data['Subject Unique Identifier'].isin(heads_of_households)].shape[0])"
     ],
     "language": "python",
     "metadata": {},
     "outputs": [
      {
       "output_type": "stream",
       "stream": "stdout",
       "text": [
        "2003: 0\n",
        "2004: 0"
       ]
      },
      {
       "output_type": "stream",
       "stream": "stdout",
       "text": [
        "\n",
        "2005: 423"
       ]
      },
      {
       "output_type": "stream",
       "stream": "stdout",
       "text": [
        "\n",
        "2006: 486"
       ]
      },
      {
       "output_type": "stream",
       "stream": "stdout",
       "text": [
        "\n",
        "2007: 78"
       ]
      },
      {
       "output_type": "stream",
       "stream": "stdout",
       "text": [
        "\n",
        "2008: 74"
       ]
      },
      {
       "output_type": "stream",
       "stream": "stdout",
       "text": [
        "\n",
        "2009: 85"
       ]
      },
      {
       "output_type": "stream",
       "stream": "stdout",
       "text": [
        "\n",
        "2010: 70"
       ]
      },
      {
       "output_type": "stream",
       "stream": "stdout",
       "text": [
        "\n",
        "2011: 135"
       ]
      },
      {
       "output_type": "stream",
       "stream": "stdout",
       "text": [
        "\n",
        "2012: 333"
       ]
      },
      {
       "output_type": "stream",
       "stream": "stdout",
       "text": [
        "\n",
        "2013: 232"
       ]
      },
      {
       "output_type": "stream",
       "stream": "stdout",
       "text": [
        "\n",
        "2014: 13"
       ]
      },
      {
       "output_type": "stream",
       "stream": "stdout",
       "text": [
        "\n"
       ]
      }
     ],
     "prompt_number": 193
    },
    {
     "cell_type": "code",
     "collapsed": false,
     "input": [
      "for year in range(2003, 2015):\n",
      "    print '{}: {}'.format(year, program_data[program_data['Program Start Year'].isin([year]) \n",
      "             & program_data['Program Name'].isin(family_programs)\n",
      "             & program_data['Subject Unique Identifier'].isin(heads_of_households)].shape[0])"
     ],
     "language": "python",
     "metadata": {},
     "outputs": [
      {
       "output_type": "stream",
       "stream": "stdout",
       "text": [
        "2003: 0\n",
        "2004: 0"
       ]
      },
      {
       "output_type": "stream",
       "stream": "stdout",
       "text": [
        "\n",
        "2005: 435"
       ]
      },
      {
       "output_type": "stream",
       "stream": "stdout",
       "text": [
        "\n",
        "2006: 484"
       ]
      },
      {
       "output_type": "stream",
       "stream": "stdout",
       "text": [
        "\n",
        "2007: 77"
       ]
      },
      {
       "output_type": "stream",
       "stream": "stdout",
       "text": [
        "\n",
        "2008: 77"
       ]
      },
      {
       "output_type": "stream",
       "stream": "stdout",
       "text": [
        "\n",
        "2009: 93"
       ]
      },
      {
       "output_type": "stream",
       "stream": "stdout",
       "text": [
        "\n",
        "2010: 63"
       ]
      },
      {
       "output_type": "stream",
       "stream": "stdout",
       "text": [
        "\n",
        "2011: 175"
       ]
      },
      {
       "output_type": "stream",
       "stream": "stdout",
       "text": [
        "\n",
        "2012: 354"
       ]
      },
      {
       "output_type": "stream",
       "stream": "stdout",
       "text": [
        "\n",
        "2013: 223"
       ]
      },
      {
       "output_type": "stream",
       "stream": "stdout",
       "text": [
        "\n",
        "2014: 9"
       ]
      },
      {
       "output_type": "stream",
       "stream": "stdout",
       "text": [
        "\n"
       ]
      }
     ],
     "prompt_number": 194
    },
    {
     "cell_type": "code",
     "collapsed": false,
     "input": [],
     "language": "python",
     "metadata": {},
     "outputs": []
    }
   ],
   "metadata": {}
  }
 ]
}