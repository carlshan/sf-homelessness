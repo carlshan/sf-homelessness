{
 "metadata": {
  "name": "",
  "signature": "sha256:fb9a763674fab25d4ca73f70a53b412f2dc9cfff073dd54394507b1f45ac9168"
 },
 "nbformat": 3,
 "nbformat_minor": 0,
 "worksheets": [
  {
   "cells": [
    {
     "cell_type": "code",
     "collapsed": false,
     "input": [
      "import pandas as pd\n",
      "import clean"
     ],
     "language": "python",
     "metadata": {},
     "outputs": [],
     "prompt_number": 1
    },
    {
     "cell_type": "code",
     "collapsed": false,
     "input": [
      "case = clean.get_cp_case()\n",
      "client = clean.get_cp_client()"
     ],
     "language": "python",
     "metadata": {},
     "outputs": [],
     "prompt_number": 2
    },
    {
     "cell_type": "markdown",
     "metadata": {},
     "source": [
      "Hmm... this is odd.  I would have expected that more people would be in and out of the waitlist."
     ]
    },
    {
     "cell_type": "code",
     "collapsed": false,
     "input": [
      "case.groupby('caseid').apply(len).value_counts()"
     ],
     "language": "python",
     "metadata": {},
     "outputs": [
      {
       "metadata": {},
       "output_type": "pyout",
       "prompt_number": 15,
       "text": [
        "1    1549\n",
        "2      88\n",
        "3      13\n",
        "4       2\n",
        "dtype: int64"
       ]
      }
     ],
     "prompt_number": 15
    },
    {
     "cell_type": "code",
     "collapsed": false,
     "input": [
      "client.groupby('Deduplicated ClientID').apply(len).value_counts()"
     ],
     "language": "python",
     "metadata": {},
     "outputs": [
      {
       "metadata": {},
       "output_type": "pyout",
       "prompt_number": 14,
       "text": [
        "1    5623\n",
        "2     648\n",
        "3     122\n",
        "4      14\n",
        "5       2\n",
        "dtype: int64"
       ]
      }
     ],
     "prompt_number": 14
    }
   ],
   "metadata": {}
  }
 ]
}