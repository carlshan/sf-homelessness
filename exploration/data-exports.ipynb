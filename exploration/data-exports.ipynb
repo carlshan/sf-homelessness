{
 "metadata": {
  "name": "",
  "signature": "sha256:c32ddc1416f8d25a93f4bc157049f5eba7e5253522cbeb14e2bfb66149cacb42"
 },
 "nbformat": 3,
 "nbformat_minor": 0,
 "worksheets": [
  {
   "cells": [
    {
     "cell_type": "code",
     "collapsed": false,
     "input": [
      "import pandas as pd\n",
      "import clean\n",
      "import datetime"
     ],
     "language": "python",
     "metadata": {},
     "outputs": [],
     "prompt_number": 1
    },
    {
     "cell_type": "code",
     "collapsed": false,
     "input": [
      "program = clean.get_program()\n",
      "today_str = datetime.date.today().__str__()"
     ],
     "language": "python",
     "metadata": {},
     "outputs": [],
     "prompt_number": 2
    },
    {
     "cell_type": "code",
     "collapsed": false,
     "input": [
      "program.to_csv('../data_exports/'+today_str+'-program.csv', index=False)"
     ],
     "language": "python",
     "metadata": {},
     "outputs": [],
     "prompt_number": 3
    }
   ],
   "metadata": {}
  }
 ]
}