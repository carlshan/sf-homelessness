{
 "metadata": {
  "name": "",
  "signature": "sha256:cdd9528b815f5361c850874ed56fe9a1ee9c5cdbdcd4a88a8f773264a37c2b99"
 },
 "nbformat": 3,
 "nbformat_minor": 0,
 "worksheets": [
  {
   "cells": [
    {
     "cell_type": "code",
     "collapsed": false,
     "input": [
      "import pandas as pd\n",
      "import clean\n",
      "\n",
      "import networkx as nx"
     ],
     "language": "python",
     "metadata": {},
     "outputs": [],
     "prompt_number": 2
    },
    {
     "cell_type": "code",
     "collapsed": false,
     "input": [
      "program = clean.get_program()"
     ],
     "language": "python",
     "metadata": {},
     "outputs": [],
     "prompt_number": 3
    },
    {
     "cell_type": "code",
     "collapsed": false,
     "input": [
      "families = program[['Deduplicated Subject Unique Identifier', 'Family Site Identifier', 'Program Start Date']].drop_duplicates().dropna().set_index(['Family Site Identifier', 'Program Start Date'])"
     ],
     "language": "python",
     "metadata": {},
     "outputs": [],
     "prompt_number": 3
    },
    {
     "cell_type": "code",
     "collapsed": false,
     "input": [
      "edges = families.merge(families, left_index=True, right_index=True)"
     ],
     "language": "python",
     "metadata": {},
     "outputs": [],
     "prompt_number": 4
    },
    {
     "cell_type": "code",
     "collapsed": false,
     "input": [
      "unique_edges = edges[edges['Deduplicated Subject Unique Identifier_x'] <= edges['Deduplicated Subject Unique Identifier_y']].drop_duplicates()"
     ],
     "language": "python",
     "metadata": {},
     "outputs": [],
     "prompt_number": 5
    },
    {
     "cell_type": "code",
     "collapsed": false,
     "input": [
      "G = nx.Graph([tuple(e) for e in unique_edges.values])"
     ],
     "language": "python",
     "metadata": {},
     "outputs": [],
     "prompt_number": 6
    },
    {
     "cell_type": "code",
     "collapsed": false,
     "input": [
      "families = [f for f in nx.connected_components(G)]"
     ],
     "language": "python",
     "metadata": {},
     "outputs": [],
     "prompt_number": 7
    },
    {
     "cell_type": "code",
     "collapsed": false,
     "input": [
      "articulation_points = {p for p in nx.articulation_points(G)}"
     ],
     "language": "python",
     "metadata": {},
     "outputs": [],
     "prompt_number": 8
    },
    {
     "cell_type": "code",
     "collapsed": false,
     "input": [
      "suspect_components = [f for f in families if not articulation_points.isdisjoint(f)]"
     ],
     "language": "python",
     "metadata": {},
     "outputs": [],
     "prompt_number": 19
    },
    {
     "cell_type": "markdown",
     "metadata": {},
     "source": [
      "# Duplication problems"
     ]
    },
    {
     "cell_type": "code",
     "collapsed": false,
     "input": [
      "large_families = [f for f in families if len(f) > 5]"
     ],
     "language": "python",
     "metadata": {},
     "outputs": [],
     "prompt_number": 10
    },
    {
     "cell_type": "code",
     "collapsed": false,
     "input": [
      "print len(families)\n",
      "print len(large_families)\n",
      "print str(float(len(large_families))/len(families)*100) + \"%\""
     ],
     "language": "python",
     "metadata": {},
     "outputs": [
      {
       "output_type": "stream",
       "stream": "stdout",
       "text": [
        "13336\n",
        "231\n",
        "1.73215356929%\n"
       ]
      }
     ],
     "prompt_number": 11
    },
    {
     "cell_type": "markdown",
     "metadata": {},
     "source": [
      "# Continuing on ..."
     ]
    },
    {
     "cell_type": "code",
     "collapsed": false,
     "input": [
      "# use index for the family_id for every family\n",
      "component_family_identifiers = pd.DataFrame({'Component Family Identifier': pd.Series({cuid: idx for idx, family in enumerate(families) for cuid in family})})"
     ],
     "language": "python",
     "metadata": {},
     "outputs": [],
     "prompt_number": 12
    },
    {
     "cell_type": "code",
     "collapsed": false,
     "input": [
      "program = program.merge(component_family_identifiers, left_on='Deduplicated Subject Unique Identifier', right_index=True, how='left')"
     ],
     "language": "python",
     "metadata": {},
     "outputs": [],
     "prompt_number": 13
    },
    {
     "cell_type": "markdown",
     "metadata": {},
     "source": [
      "# And on.  Grouping time!  Let's look at who's a family."
     ]
    },
    {
     "cell_type": "code",
     "collapsed": false,
     "input": [
      "program['With Child?'] = program.groupby(['Component Family Identifier','Program Start Date'])['Child?'].transform(any)\n",
      "program['With Adult?'] = program.groupby(['Component Family Identifier','Program Start Date'])['Adult?'].transform(any)\n",
      "program['With Family?'] = program['With Child?'] & program['With Adult?']\n",
      "program['Ever With Family?'] = program.groupby(['Component Family Identifier'])['With Family?'].transform(any)"
     ],
     "language": "python",
     "metadata": {},
     "outputs": [],
     "prompt_number": 14
    },
    {
     "cell_type": "code",
     "collapsed": false,
     "input": [
      "ever_with_family = program[program['Ever With Family?']]"
     ],
     "language": "python",
     "metadata": {},
     "outputs": [],
     "prompt_number": 15
    },
    {
     "cell_type": "code",
     "collapsed": false,
     "input": [
      "len(ever_with_family.groupby('Component Family Identifier'))"
     ],
     "language": "python",
     "metadata": {},
     "outputs": [
      {
       "metadata": {},
       "output_type": "pyout",
       "prompt_number": 16,
       "text": [
        "2700"
       ]
      }
     ],
     "prompt_number": 16
    },
    {
     "cell_type": "code",
     "collapsed": false,
     "input": [
      "len(suspect_components)"
     ],
     "language": "python",
     "metadata": {},
     "outputs": [
      {
       "metadata": {},
       "output_type": "pyout",
       "prompt_number": 20,
       "text": [
        "348"
       ]
      }
     ],
     "prompt_number": 20
    },
    {
     "cell_type": "code",
     "collapsed": false,
     "input": [
      "suid_ever_with_family = ever_with_family['Deduplicated Subject Unique Identifier'].values"
     ],
     "language": "python",
     "metadata": {},
     "outputs": [],
     "prompt_number": 21
    },
    {
     "cell_type": "code",
     "collapsed": false,
     "input": [
      "suspect_families = filter(lambda l: not set(l).isdisjoint(suid_ever_with_family), suspect_components)"
     ],
     "language": "python",
     "metadata": {},
     "outputs": [],
     "prompt_number": 22
    },
    {
     "cell_type": "code",
     "collapsed": false,
     "input": [
      "len(suspect_families)"
     ],
     "language": "python",
     "metadata": {},
     "outputs": [
      {
       "metadata": {},
       "output_type": "pyout",
       "prompt_number": 23,
       "text": [
        "318"
       ]
      }
     ],
     "prompt_number": 23
    }
   ],
   "metadata": {}
  }
 ]
}